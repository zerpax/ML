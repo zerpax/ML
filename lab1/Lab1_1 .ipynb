{
  "cells": [
    {
      "cell_type": "markdown",
      "metadata": {
        "id": "sErcjeV2zU5I"
      },
      "source": [
        "# **Лабораторная работа №1**\n",
        "\n",
        "## **Выполнил: Федоров Никита**\n",
        "\n"
      ]
    },
    {
      "cell_type": "markdown",
      "metadata": {
        "id": "cXTzO5HV18Yr"
      },
      "source": [
        "# 1. Numpy\n",
        "\n",
        "Необходимо использовать функции и методы библиотеки numpy. Использовать циклы, генераторы списков **запрещено**."
      ]
    },
    {
      "cell_type": "code",
      "execution_count": 2,
      "metadata": {
        "id": "ybgUxnUep5fN"
      },
      "outputs": [],
      "source": [
        "import numpy as np"
      ]
    },
    {
      "cell_type": "markdown",
      "metadata": {
        "id": "AmUMh0xo32nb"
      },
      "source": [
        "1. Создайте матрицу $3 × 3 $ со значениями от 0 до 8."
      ]
    },
    {
      "cell_type": "code",
      "execution_count": null,
      "metadata": {
        "id": "34WhZifT13Jn",
        "colab": {
          "base_uri": "https://localhost:8080/"
        },
        "outputId": "8b52ad34-3b7c-4057-e68b-e655a5bad1ae"
      },
      "outputs": [
        {
          "output_type": "execute_result",
          "data": {
            "text/plain": [
              "array([[0, 1, 2],\n",
              "       [3, 4, 5],\n",
              "       [6, 7, 8]])"
            ]
          },
          "metadata": {},
          "execution_count": 45
        }
      ],
      "source": [
        "np.arange(9).reshape(3, 3)"
      ]
    },
    {
      "cell_type": "markdown",
      "metadata": {
        "id": "1jSpAGnP12Vn"
      },
      "source": [
        "2. Создайте матрицу шахматной доски  $8 × 8 $, заполненную 'B' и 'W', используя функцию tile."
      ]
    },
    {
      "cell_type": "code",
      "execution_count": null,
      "metadata": {
        "id": "OKjYdYlB32JN",
        "colab": {
          "base_uri": "https://localhost:8080/"
        },
        "outputId": "f29fef8c-5f3a-4294-8d7c-fcb3893b3db3"
      },
      "outputs": [
        {
          "output_type": "execute_result",
          "data": {
            "text/plain": [
              "array([['B', 'W', 'B', 'W', 'B', 'W', 'B', 'W'],\n",
              "       ['B', 'W', 'B', 'W', 'B', 'W', 'B', 'W'],\n",
              "       ['B', 'W', 'B', 'W', 'B', 'W', 'B', 'W'],\n",
              "       ['B', 'W', 'B', 'W', 'B', 'W', 'B', 'W']], dtype='<U1')"
            ]
          },
          "metadata": {},
          "execution_count": 44
        }
      ],
      "source": [
        "np.tile(['B', 'W'], (4,4))"
      ]
    },
    {
      "cell_type": "markdown",
      "metadata": {
        "id": "_k7LOsPh4Feo"
      },
      "source": [
        "3. Найти индексы ненулевых элементов в произвольном массиве, например: $ [1,2,0,0,4,0,0,4,6,4,0] $\n"
      ]
    },
    {
      "cell_type": "markdown",
      "source": [],
      "metadata": {
        "id": "KmvMIFRyt0RB"
      }
    },
    {
      "cell_type": "code",
      "execution_count": null,
      "metadata": {
        "id": "BUJdZFGn4P3k",
        "colab": {
          "base_uri": "https://localhost:8080/"
        },
        "outputId": "0557506a-d62b-4e70-b528-6bbdb16d6a67"
      },
      "outputs": [
        {
          "output_type": "stream",
          "name": "stdout",
          "text": [
            "[0 1 4 7 8 9]\n",
            "[0 1 4 7 8 9]\n"
          ]
        }
      ],
      "source": [
        "array = np.array([1,2,0,0,4,0,0,4,6,4,0])\n",
        "print(np.nonzero(array != 0)[0])\n",
        "print((np.argwhere(array != 0))[:,0])"
      ]
    },
    {
      "cell_type": "markdown",
      "metadata": {
        "id": "ZJWS2wO-3xfn"
      },
      "source": [
        "4. Создайте двумерный массив с единицами на границах и нулями внутри, например:\n",
        "\n",
        "$ 1 1 1 1 1 $\n",
        "\n",
        "$ 1 0 0 0 1 $\n",
        "\n",
        "$ 1 0 0 0 1 $\n",
        "\n",
        "$ 1 1 1 1 1 $\n"
      ]
    },
    {
      "cell_type": "code",
      "execution_count": null,
      "metadata": {
        "id": "dGfAw9ii5fhJ",
        "colab": {
          "base_uri": "https://localhost:8080/"
        },
        "outputId": "fb7546df-6d5b-4c59-f9eb-25c196b1a17c"
      },
      "outputs": [
        {
          "output_type": "stream",
          "name": "stdout",
          "text": [
            "[[1 1 1 1 1 1]\n",
            " [1 0 0 0 0 1]\n",
            " [1 0 0 0 0 1]\n",
            " [1 0 0 0 0 1]\n",
            " [1 0 0 0 0 1]\n",
            " [1 1 1 1 1 1]]\n"
          ]
        }
      ],
      "source": [
        "x = np.zeros((6,6), np.int64)\n",
        "x[0] = 1\n",
        "x[-1] = 1\n",
        "x[:, 0] = 1\n",
        "x[:, -1] = 1\n",
        "print(x)"
      ]
    },
    {
      "cell_type": "markdown",
      "metadata": {
        "id": "L8m6wERB4m7_"
      },
      "source": [
        "5. Создайте случайный вектор размером 15 и замените максимальное значение на $NaN$.\n"
      ]
    },
    {
      "cell_type": "code",
      "execution_count": null,
      "metadata": {
        "id": "-orpyoP14mKS",
        "colab": {
          "base_uri": "https://localhost:8080/"
        },
        "outputId": "3a1d32b7-401a-4feb-c66a-6c7f509a0552"
      },
      "outputs": [
        {
          "output_type": "stream",
          "name": "stdout",
          "text": [
            "[0.09056267 0.54621139 0.09889388 0.43958351 0.55817718 0.75533848\n",
            " 0.82272075 0.59210401 0.56457033 0.37654525 0.01810226 0.27843563\n",
            " 0.63086221 0.17559125 0.28028204]\n",
            "[0.09056267 0.54621139 0.09889388 0.43958351 0.55817718 0.75533848\n",
            "        nan 0.59210401 0.56457033 0.37654525 0.01810226 0.27843563\n",
            " 0.63086221 0.17559125 0.28028204]\n"
          ]
        }
      ],
      "source": [
        "x = np.random.rand(15)\n",
        "print(x)\n",
        "x[x == x.max()] = np.NaN\n",
        "print(x)"
      ]
    },
    {
      "cell_type": "markdown",
      "metadata": {
        "id": "V5SVMkLv4QOl"
      },
      "source": [
        "6. Рассмотрим массив размерности $(6, 7, 8)$. Каков индекс $(i,j,k)$ 100-го элемента?"
      ]
    },
    {
      "cell_type": "code",
      "execution_count": null,
      "metadata": {
        "id": "Io3LqADB4oNd",
        "colab": {
          "base_uri": "https://localhost:8080/"
        },
        "outputId": "3d06df94-e097-45ce-da09-85187142b6f6"
      },
      "outputs": [
        {
          "output_type": "execute_result",
          "data": {
            "text/plain": [
              "100"
            ]
          },
          "metadata": {},
          "execution_count": 72
        }
      ],
      "source": [
        "x = np.arange(6*7*8).reshape((6,7,8))\n",
        "\n",
        "x[np.unravel_index(100, (6,7,8))]"
      ]
    },
    {
      "cell_type": "markdown",
      "metadata": {
        "id": "vTEGupeC4bmb"
      },
      "source": [
        "7. Рассмотрим случайную матрицу  $15 × 2 $, представляющую декартовы координаты, преобразуйте их в полярные координаты."
      ]
    },
    {
      "cell_type": "code",
      "execution_count": null,
      "metadata": {
        "id": "wJggfH9L4nZ_",
        "colab": {
          "base_uri": "https://localhost:8080/"
        },
        "outputId": "843bd346-e4e1-437b-f6f3-6ee0a88e4b01"
      },
      "outputs": [
        {
          "output_type": "stream",
          "name": "stdout",
          "text": [
            "[[0.05898173 0.13439902]\n",
            " [0.4223366  0.70328337]\n",
            " [0.49356285 0.23890506]\n",
            " [0.34571861 0.22013531]\n",
            " [0.71750316 0.8799355 ]\n",
            " [0.21816962 0.04082222]\n",
            " [0.64571424 0.96249731]\n",
            " [0.95850496 0.23690906]\n",
            " [0.87249007 0.55511959]\n",
            " [0.51177655 0.6204469 ]\n",
            " [0.66939308 0.3013363 ]\n",
            " [0.04160386 0.1036328 ]\n",
            " [0.42027367 0.40161137]\n",
            " [0.35628879 0.55110434]\n",
            " [0.82663026 0.95920309]]\n",
            "[[1.15724883 0.14677173]\n",
            " [1.02999365 0.82035096]\n",
            " [0.45079975 0.54834288]\n",
            " [0.56700207 0.40985474]\n",
            " [0.88673287 1.13538419]\n",
            " [0.18497341 0.22195593]\n",
            " [0.97988674 1.15902888]\n",
            " [0.24230883 0.9873488 ]\n",
            " [0.56664652 1.03411637]\n",
            " [0.88108466 0.80428204]\n",
            " [0.42298985 0.73409172]\n",
            " [1.18903667 0.11167201]\n",
            " [0.76269537 0.58131029]\n",
            " [0.9968857  0.65624515]\n",
            " [0.85949808 1.26624964]]\n"
          ]
        }
      ],
      "source": [
        "# np.set_printoptions(suppress=True)\n",
        "x = np.random.rand(15,2)\n",
        "print(x)\n",
        "y = np.zeros_like(x)\n",
        "y[:, 0] = np.arctan2(x[:, 1], x[:, 0])\n",
        "y[:, 1] = np.sqrt(np.square(x[:, 0]) + np.square(x[:, 1]))\n",
        "print(y)\n"
      ]
    },
    {
      "cell_type": "markdown",
      "metadata": {
        "id": "Y6QOvFAE5Rdo"
      },
      "source": [
        "8. По двум массивам $x$ и $y$ постройте матрицу Коши $C$\n",
        " $(C_{ij} =\\frac{1}{x_i - y_j})$"
      ]
    },
    {
      "cell_type": "code",
      "execution_count": null,
      "metadata": {
        "id": "VrMhqaTg5Rvv",
        "colab": {
          "base_uri": "https://localhost:8080/"
        },
        "outputId": "5fb324b4-5588-4e3c-daba-01298eb205fe"
      },
      "outputs": [
        {
          "output_type": "stream",
          "name": "stdout",
          "text": [
            "[[0]\n",
            " [1]\n",
            " [2]\n",
            " [3]\n",
            " [4]\n",
            " [5]\n",
            " [6]\n",
            " [7]\n",
            " [8]\n",
            " [9]]\n",
            "[[10 11 12 13 14 15 16 17 18 19]]\n",
            "[[10 11 12 13 14 15 16 17 18 19]\n",
            " [ 9 10 11 12 13 14 15 16 17 18]\n",
            " [ 8  9 10 11 12 13 14 15 16 17]\n",
            " [ 7  8  9 10 11 12 13 14 15 16]\n",
            " [ 6  7  8  9 10 11 12 13 14 15]\n",
            " [ 5  6  7  8  9 10 11 12 13 14]\n",
            " [ 4  5  6  7  8  9 10 11 12 13]\n",
            " [ 3  4  5  6  7  8  9 10 11 12]\n",
            " [ 2  3  4  5  6  7  8  9 10 11]\n",
            " [ 1  2  3  4  5  6  7  8  9 10]]\n"
          ]
        }
      ],
      "source": [
        "x = np.arange(10).reshape(10,  1)\n",
        "y = np.arange(10, 20).reshape(1,10)\n",
        "print(x)\n",
        "print(y)\n",
        "c = (y - x)\n",
        "print(c)"
      ]
    },
    {
      "cell_type": "markdown",
      "metadata": {
        "id": "clAXzbii4wA3"
      },
      "source": [
        "9. Рассмотрим матрицу $10 × 3 $, извлеките строки с неравными значениями (например, $[2,2,3]$)."
      ]
    },
    {
      "cell_type": "code",
      "execution_count": null,
      "metadata": {
        "id": "97jD43Gl4wbx",
        "colab": {
          "base_uri": "https://localhost:8080/"
        },
        "outputId": "59fc6d15-eddc-41ad-8cd2-b738fbdc9985"
      },
      "outputs": [
        {
          "output_type": "stream",
          "name": "stdout",
          "text": [
            "[[ 1  1  1]\n",
            " [ 1  1  1]\n",
            " [ 1  1  1]\n",
            " [ 1 12  1]\n",
            " [ 1  1  1]\n",
            " [ 1  1  1]\n",
            " [ 1  1  1]\n",
            " [ 1  1 12]\n",
            " [ 1  1  1]\n",
            " [ 1  1  1]]\n"
          ]
        },
        {
          "output_type": "execute_result",
          "data": {
            "text/plain": [
              "array([[ 1, 12,  1],\n",
              "       [ 1,  1, 12]])"
            ]
          },
          "metadata": {},
          "execution_count": 215
        }
      ],
      "source": [
        "x = np.ones((10, 3), dtype = np.int64)\n",
        "x[7,2] = 12\n",
        "x[3,1] = 1\n",
        "print(x)\n",
        "x[(x[:,0] != x[:, 1]) + (x[:, 1] != x[:,2])]\n",
        "\n"
      ]
    },
    {
      "cell_type": "markdown",
      "metadata": {
        "id": "3dVmnyBLxuUP"
      },
      "source": [
        "10. Извлеките уникальные строки из двумерного массива.\n"
      ]
    },
    {
      "cell_type": "code",
      "execution_count": null,
      "metadata": {
        "id": "yWdTK_orxtx0",
        "colab": {
          "base_uri": "https://localhost:8080/"
        },
        "outputId": "fcefefda-1db1-4fb6-8cdd-bfa104bf70c4"
      },
      "outputs": [
        {
          "output_type": "stream",
          "name": "stdout",
          "text": [
            "[[1 1 0]\n",
            " [1 1 0]\n",
            " [1 1 0]\n",
            " [1 1 0]\n",
            " [1 1 0]\n",
            " [1 2 1]\n",
            " [1 1 0]\n",
            " [1 1 0]\n",
            " [1 1 0]\n",
            " [1 1 0]]\n"
          ]
        },
        {
          "output_type": "execute_result",
          "data": {
            "text/plain": [
              "array([[1, 1, 0],\n",
              "       [1, 2, 1]])"
            ]
          },
          "metadata": {},
          "execution_count": 179
        }
      ],
      "source": [
        "print(x)\n",
        "np.unique(x, axis = 0)"
      ]
    },
    {
      "cell_type": "markdown",
      "metadata": {
        "id": "ehaTVnKIyufu"
      },
      "source": [
        "# 2. Pandas\n",
        "\n",
        "# Найдите ответы на вопросы с помощью предложенного датасета:"
      ]
    },
    {
      "cell_type": "markdown",
      "metadata": {
        "id": "h7NfRLCpFec1"
      },
      "source": [
        "Файл с датасетом - `olympics_dataset.csv`"
      ]
    },
    {
      "cell_type": "code",
      "execution_count": 3,
      "metadata": {
        "id": "mtzTvBd3p5fR"
      },
      "outputs": [],
      "source": [
        "import pandas as pd"
      ]
    },
    {
      "cell_type": "code",
      "execution_count": 16,
      "metadata": {
        "id": "ounSSG10p5fR",
        "colab": {
          "base_uri": "https://localhost:8080/",
          "height": 424
        },
        "outputId": "51f70088-4c5e-47ae-d961-b5607312decc"
      },
      "outputs": [
        {
          "output_type": "execute_result",
          "data": {
            "text/plain": [
              "        player_id                   Name Sex               Team  NOC  Year  \\\n",
              "0               0              A Dijiang   M              China  CHN  1992   \n",
              "1               1               A Lamusi   M              China  CHN  2012   \n",
              "2               2            Gunnar Aaby   M            Denmark  DEN  1920   \n",
              "3               3            Edgar Aabye   M     Denmark/Sweden  DEN  1900   \n",
              "4              26  Cornelia (-strannood)   F        Netherlands  NED  1932   \n",
              "...           ...                    ...  ..                ...  ...   ...   \n",
              "252560    4986655             Sefora Ada   F  Equatorial Guinea  GEQ  2024   \n",
              "252561    9460001        Emanuela Liuzzi   F              Italy  ITA  2024   \n",
              "252562    1972077           Isayah Boers   M        Netherlands  NED  2024   \n",
              "252563    1899865            Kevin Staut   M             France  FRA  2024   \n",
              "252564    1924402        Charlie Carvell   M      Great Britain  GBR  2024   \n",
              "\n",
              "        Season         City       Sport                         Event  \\\n",
              "0       Summer    Barcelona  Basketball   Basketball Men's Basketball   \n",
              "1       Summer       London        Judo  Judo Men's Extra-Lightweight   \n",
              "2       Summer    Antwerpen    Football       Football Men's Football   \n",
              "3       Summer        Paris  Tug-Of-War   Tug-Of-War Men's Tug-Of-War   \n",
              "4       Summer  Los Angeles   Athletics  Athletics Women's 100 metres   \n",
              "...        ...          ...         ...                           ...   \n",
              "252560  Summer        Paris   Athletics                  Women's 100m   \n",
              "252561  Summer        Paris   Wrestling        Women's Freestyle 50kg   \n",
              "252562  Summer        Paris   Athletics          4 x 400m Relay Mixed   \n",
              "252563  Summer        Paris  Equestrian                  Jumping Team   \n",
              "252564  Summer        Paris   Athletics          Men's 4 x 400m Relay   \n",
              "\n",
              "           Medal  \n",
              "0       No medal  \n",
              "1       No medal  \n",
              "2       No medal  \n",
              "3           Gold  \n",
              "4       No medal  \n",
              "...          ...  \n",
              "252560  No medal  \n",
              "252561  No medal  \n",
              "252562      Gold  \n",
              "252563    Bronze  \n",
              "252564    Bronze  \n",
              "\n",
              "[252565 rows x 11 columns]"
            ],
            "text/html": [
              "\n",
              "  <div id=\"df-8b0c850f-3e75-4ee0-80d1-9cca07f97611\" class=\"colab-df-container\">\n",
              "    <div>\n",
              "<style scoped>\n",
              "    .dataframe tbody tr th:only-of-type {\n",
              "        vertical-align: middle;\n",
              "    }\n",
              "\n",
              "    .dataframe tbody tr th {\n",
              "        vertical-align: top;\n",
              "    }\n",
              "\n",
              "    .dataframe thead th {\n",
              "        text-align: right;\n",
              "    }\n",
              "</style>\n",
              "<table border=\"1\" class=\"dataframe\">\n",
              "  <thead>\n",
              "    <tr style=\"text-align: right;\">\n",
              "      <th></th>\n",
              "      <th>player_id</th>\n",
              "      <th>Name</th>\n",
              "      <th>Sex</th>\n",
              "      <th>Team</th>\n",
              "      <th>NOC</th>\n",
              "      <th>Year</th>\n",
              "      <th>Season</th>\n",
              "      <th>City</th>\n",
              "      <th>Sport</th>\n",
              "      <th>Event</th>\n",
              "      <th>Medal</th>\n",
              "    </tr>\n",
              "  </thead>\n",
              "  <tbody>\n",
              "    <tr>\n",
              "      <th>0</th>\n",
              "      <td>0</td>\n",
              "      <td>A Dijiang</td>\n",
              "      <td>M</td>\n",
              "      <td>China</td>\n",
              "      <td>CHN</td>\n",
              "      <td>1992</td>\n",
              "      <td>Summer</td>\n",
              "      <td>Barcelona</td>\n",
              "      <td>Basketball</td>\n",
              "      <td>Basketball Men's Basketball</td>\n",
              "      <td>No medal</td>\n",
              "    </tr>\n",
              "    <tr>\n",
              "      <th>1</th>\n",
              "      <td>1</td>\n",
              "      <td>A Lamusi</td>\n",
              "      <td>M</td>\n",
              "      <td>China</td>\n",
              "      <td>CHN</td>\n",
              "      <td>2012</td>\n",
              "      <td>Summer</td>\n",
              "      <td>London</td>\n",
              "      <td>Judo</td>\n",
              "      <td>Judo Men's Extra-Lightweight</td>\n",
              "      <td>No medal</td>\n",
              "    </tr>\n",
              "    <tr>\n",
              "      <th>2</th>\n",
              "      <td>2</td>\n",
              "      <td>Gunnar Aaby</td>\n",
              "      <td>M</td>\n",
              "      <td>Denmark</td>\n",
              "      <td>DEN</td>\n",
              "      <td>1920</td>\n",
              "      <td>Summer</td>\n",
              "      <td>Antwerpen</td>\n",
              "      <td>Football</td>\n",
              "      <td>Football Men's Football</td>\n",
              "      <td>No medal</td>\n",
              "    </tr>\n",
              "    <tr>\n",
              "      <th>3</th>\n",
              "      <td>3</td>\n",
              "      <td>Edgar Aabye</td>\n",
              "      <td>M</td>\n",
              "      <td>Denmark/Sweden</td>\n",
              "      <td>DEN</td>\n",
              "      <td>1900</td>\n",
              "      <td>Summer</td>\n",
              "      <td>Paris</td>\n",
              "      <td>Tug-Of-War</td>\n",
              "      <td>Tug-Of-War Men's Tug-Of-War</td>\n",
              "      <td>Gold</td>\n",
              "    </tr>\n",
              "    <tr>\n",
              "      <th>4</th>\n",
              "      <td>26</td>\n",
              "      <td>Cornelia (-strannood)</td>\n",
              "      <td>F</td>\n",
              "      <td>Netherlands</td>\n",
              "      <td>NED</td>\n",
              "      <td>1932</td>\n",
              "      <td>Summer</td>\n",
              "      <td>Los Angeles</td>\n",
              "      <td>Athletics</td>\n",
              "      <td>Athletics Women's 100 metres</td>\n",
              "      <td>No medal</td>\n",
              "    </tr>\n",
              "    <tr>\n",
              "      <th>...</th>\n",
              "      <td>...</td>\n",
              "      <td>...</td>\n",
              "      <td>...</td>\n",
              "      <td>...</td>\n",
              "      <td>...</td>\n",
              "      <td>...</td>\n",
              "      <td>...</td>\n",
              "      <td>...</td>\n",
              "      <td>...</td>\n",
              "      <td>...</td>\n",
              "      <td>...</td>\n",
              "    </tr>\n",
              "    <tr>\n",
              "      <th>252560</th>\n",
              "      <td>4986655</td>\n",
              "      <td>Sefora Ada</td>\n",
              "      <td>F</td>\n",
              "      <td>Equatorial Guinea</td>\n",
              "      <td>GEQ</td>\n",
              "      <td>2024</td>\n",
              "      <td>Summer</td>\n",
              "      <td>Paris</td>\n",
              "      <td>Athletics</td>\n",
              "      <td>Women's 100m</td>\n",
              "      <td>No medal</td>\n",
              "    </tr>\n",
              "    <tr>\n",
              "      <th>252561</th>\n",
              "      <td>9460001</td>\n",
              "      <td>Emanuela Liuzzi</td>\n",
              "      <td>F</td>\n",
              "      <td>Italy</td>\n",
              "      <td>ITA</td>\n",
              "      <td>2024</td>\n",
              "      <td>Summer</td>\n",
              "      <td>Paris</td>\n",
              "      <td>Wrestling</td>\n",
              "      <td>Women's Freestyle 50kg</td>\n",
              "      <td>No medal</td>\n",
              "    </tr>\n",
              "    <tr>\n",
              "      <th>252562</th>\n",
              "      <td>1972077</td>\n",
              "      <td>Isayah Boers</td>\n",
              "      <td>M</td>\n",
              "      <td>Netherlands</td>\n",
              "      <td>NED</td>\n",
              "      <td>2024</td>\n",
              "      <td>Summer</td>\n",
              "      <td>Paris</td>\n",
              "      <td>Athletics</td>\n",
              "      <td>4 x 400m Relay Mixed</td>\n",
              "      <td>Gold</td>\n",
              "    </tr>\n",
              "    <tr>\n",
              "      <th>252563</th>\n",
              "      <td>1899865</td>\n",
              "      <td>Kevin Staut</td>\n",
              "      <td>M</td>\n",
              "      <td>France</td>\n",
              "      <td>FRA</td>\n",
              "      <td>2024</td>\n",
              "      <td>Summer</td>\n",
              "      <td>Paris</td>\n",
              "      <td>Equestrian</td>\n",
              "      <td>Jumping Team</td>\n",
              "      <td>Bronze</td>\n",
              "    </tr>\n",
              "    <tr>\n",
              "      <th>252564</th>\n",
              "      <td>1924402</td>\n",
              "      <td>Charlie Carvell</td>\n",
              "      <td>M</td>\n",
              "      <td>Great Britain</td>\n",
              "      <td>GBR</td>\n",
              "      <td>2024</td>\n",
              "      <td>Summer</td>\n",
              "      <td>Paris</td>\n",
              "      <td>Athletics</td>\n",
              "      <td>Men's 4 x 400m Relay</td>\n",
              "      <td>Bronze</td>\n",
              "    </tr>\n",
              "  </tbody>\n",
              "</table>\n",
              "<p>252565 rows × 11 columns</p>\n",
              "</div>\n",
              "    <div class=\"colab-df-buttons\">\n",
              "\n",
              "  <div class=\"colab-df-container\">\n",
              "    <button class=\"colab-df-convert\" onclick=\"convertToInteractive('df-8b0c850f-3e75-4ee0-80d1-9cca07f97611')\"\n",
              "            title=\"Convert this dataframe to an interactive table.\"\n",
              "            style=\"display:none;\">\n",
              "\n",
              "  <svg xmlns=\"http://www.w3.org/2000/svg\" height=\"24px\" viewBox=\"0 -960 960 960\">\n",
              "    <path d=\"M120-120v-720h720v720H120Zm60-500h600v-160H180v160Zm220 220h160v-160H400v160Zm0 220h160v-160H400v160ZM180-400h160v-160H180v160Zm440 0h160v-160H620v160ZM180-180h160v-160H180v160Zm440 0h160v-160H620v160Z\"/>\n",
              "  </svg>\n",
              "    </button>\n",
              "\n",
              "  <style>\n",
              "    .colab-df-container {\n",
              "      display:flex;\n",
              "      gap: 12px;\n",
              "    }\n",
              "\n",
              "    .colab-df-convert {\n",
              "      background-color: #E8F0FE;\n",
              "      border: none;\n",
              "      border-radius: 50%;\n",
              "      cursor: pointer;\n",
              "      display: none;\n",
              "      fill: #1967D2;\n",
              "      height: 32px;\n",
              "      padding: 0 0 0 0;\n",
              "      width: 32px;\n",
              "    }\n",
              "\n",
              "    .colab-df-convert:hover {\n",
              "      background-color: #E2EBFA;\n",
              "      box-shadow: 0px 1px 2px rgba(60, 64, 67, 0.3), 0px 1px 3px 1px rgba(60, 64, 67, 0.15);\n",
              "      fill: #174EA6;\n",
              "    }\n",
              "\n",
              "    .colab-df-buttons div {\n",
              "      margin-bottom: 4px;\n",
              "    }\n",
              "\n",
              "    [theme=dark] .colab-df-convert {\n",
              "      background-color: #3B4455;\n",
              "      fill: #D2E3FC;\n",
              "    }\n",
              "\n",
              "    [theme=dark] .colab-df-convert:hover {\n",
              "      background-color: #434B5C;\n",
              "      box-shadow: 0px 1px 3px 1px rgba(0, 0, 0, 0.15);\n",
              "      filter: drop-shadow(0px 1px 2px rgba(0, 0, 0, 0.3));\n",
              "      fill: #FFFFFF;\n",
              "    }\n",
              "  </style>\n",
              "\n",
              "    <script>\n",
              "      const buttonEl =\n",
              "        document.querySelector('#df-8b0c850f-3e75-4ee0-80d1-9cca07f97611 button.colab-df-convert');\n",
              "      buttonEl.style.display =\n",
              "        google.colab.kernel.accessAllowed ? 'block' : 'none';\n",
              "\n",
              "      async function convertToInteractive(key) {\n",
              "        const element = document.querySelector('#df-8b0c850f-3e75-4ee0-80d1-9cca07f97611');\n",
              "        const dataTable =\n",
              "          await google.colab.kernel.invokeFunction('convertToInteractive',\n",
              "                                                    [key], {});\n",
              "        if (!dataTable) return;\n",
              "\n",
              "        const docLinkHtml = 'Like what you see? Visit the ' +\n",
              "          '<a target=\"_blank\" href=https://colab.research.google.com/notebooks/data_table.ipynb>data table notebook</a>'\n",
              "          + ' to learn more about interactive tables.';\n",
              "        element.innerHTML = '';\n",
              "        dataTable['output_type'] = 'display_data';\n",
              "        await google.colab.output.renderOutput(dataTable, element);\n",
              "        const docLink = document.createElement('div');\n",
              "        docLink.innerHTML = docLinkHtml;\n",
              "        element.appendChild(docLink);\n",
              "      }\n",
              "    </script>\n",
              "  </div>\n",
              "\n",
              "\n",
              "<div id=\"df-f782e3d3-08ba-487b-929c-75b1231c10b8\">\n",
              "  <button class=\"colab-df-quickchart\" onclick=\"quickchart('df-f782e3d3-08ba-487b-929c-75b1231c10b8')\"\n",
              "            title=\"Suggest charts\"\n",
              "            style=\"display:none;\">\n",
              "\n",
              "<svg xmlns=\"http://www.w3.org/2000/svg\" height=\"24px\"viewBox=\"0 0 24 24\"\n",
              "     width=\"24px\">\n",
              "    <g>\n",
              "        <path d=\"M19 3H5c-1.1 0-2 .9-2 2v14c0 1.1.9 2 2 2h14c1.1 0 2-.9 2-2V5c0-1.1-.9-2-2-2zM9 17H7v-7h2v7zm4 0h-2V7h2v10zm4 0h-2v-4h2v4z\"/>\n",
              "    </g>\n",
              "</svg>\n",
              "  </button>\n",
              "\n",
              "<style>\n",
              "  .colab-df-quickchart {\n",
              "      --bg-color: #E8F0FE;\n",
              "      --fill-color: #1967D2;\n",
              "      --hover-bg-color: #E2EBFA;\n",
              "      --hover-fill-color: #174EA6;\n",
              "      --disabled-fill-color: #AAA;\n",
              "      --disabled-bg-color: #DDD;\n",
              "  }\n",
              "\n",
              "  [theme=dark] .colab-df-quickchart {\n",
              "      --bg-color: #3B4455;\n",
              "      --fill-color: #D2E3FC;\n",
              "      --hover-bg-color: #434B5C;\n",
              "      --hover-fill-color: #FFFFFF;\n",
              "      --disabled-bg-color: #3B4455;\n",
              "      --disabled-fill-color: #666;\n",
              "  }\n",
              "\n",
              "  .colab-df-quickchart {\n",
              "    background-color: var(--bg-color);\n",
              "    border: none;\n",
              "    border-radius: 50%;\n",
              "    cursor: pointer;\n",
              "    display: none;\n",
              "    fill: var(--fill-color);\n",
              "    height: 32px;\n",
              "    padding: 0;\n",
              "    width: 32px;\n",
              "  }\n",
              "\n",
              "  .colab-df-quickchart:hover {\n",
              "    background-color: var(--hover-bg-color);\n",
              "    box-shadow: 0 1px 2px rgba(60, 64, 67, 0.3), 0 1px 3px 1px rgba(60, 64, 67, 0.15);\n",
              "    fill: var(--button-hover-fill-color);\n",
              "  }\n",
              "\n",
              "  .colab-df-quickchart-complete:disabled,\n",
              "  .colab-df-quickchart-complete:disabled:hover {\n",
              "    background-color: var(--disabled-bg-color);\n",
              "    fill: var(--disabled-fill-color);\n",
              "    box-shadow: none;\n",
              "  }\n",
              "\n",
              "  .colab-df-spinner {\n",
              "    border: 2px solid var(--fill-color);\n",
              "    border-color: transparent;\n",
              "    border-bottom-color: var(--fill-color);\n",
              "    animation:\n",
              "      spin 1s steps(1) infinite;\n",
              "  }\n",
              "\n",
              "  @keyframes spin {\n",
              "    0% {\n",
              "      border-color: transparent;\n",
              "      border-bottom-color: var(--fill-color);\n",
              "      border-left-color: var(--fill-color);\n",
              "    }\n",
              "    20% {\n",
              "      border-color: transparent;\n",
              "      border-left-color: var(--fill-color);\n",
              "      border-top-color: var(--fill-color);\n",
              "    }\n",
              "    30% {\n",
              "      border-color: transparent;\n",
              "      border-left-color: var(--fill-color);\n",
              "      border-top-color: var(--fill-color);\n",
              "      border-right-color: var(--fill-color);\n",
              "    }\n",
              "    40% {\n",
              "      border-color: transparent;\n",
              "      border-right-color: var(--fill-color);\n",
              "      border-top-color: var(--fill-color);\n",
              "    }\n",
              "    60% {\n",
              "      border-color: transparent;\n",
              "      border-right-color: var(--fill-color);\n",
              "    }\n",
              "    80% {\n",
              "      border-color: transparent;\n",
              "      border-right-color: var(--fill-color);\n",
              "      border-bottom-color: var(--fill-color);\n",
              "    }\n",
              "    90% {\n",
              "      border-color: transparent;\n",
              "      border-bottom-color: var(--fill-color);\n",
              "    }\n",
              "  }\n",
              "</style>\n",
              "\n",
              "  <script>\n",
              "    async function quickchart(key) {\n",
              "      const quickchartButtonEl =\n",
              "        document.querySelector('#' + key + ' button');\n",
              "      quickchartButtonEl.disabled = true;  // To prevent multiple clicks.\n",
              "      quickchartButtonEl.classList.add('colab-df-spinner');\n",
              "      try {\n",
              "        const charts = await google.colab.kernel.invokeFunction(\n",
              "            'suggestCharts', [key], {});\n",
              "      } catch (error) {\n",
              "        console.error('Error during call to suggestCharts:', error);\n",
              "      }\n",
              "      quickchartButtonEl.classList.remove('colab-df-spinner');\n",
              "      quickchartButtonEl.classList.add('colab-df-quickchart-complete');\n",
              "    }\n",
              "    (() => {\n",
              "      let quickchartButtonEl =\n",
              "        document.querySelector('#df-f782e3d3-08ba-487b-929c-75b1231c10b8 button');\n",
              "      quickchartButtonEl.style.display =\n",
              "        google.colab.kernel.accessAllowed ? 'block' : 'none';\n",
              "    })();\n",
              "  </script>\n",
              "</div>\n",
              "    </div>\n",
              "  </div>\n"
            ],
            "application/vnd.google.colaboratory.intrinsic+json": {
              "type": "dataframe",
              "variable_name": "df"
            }
          },
          "metadata": {},
          "execution_count": 16
        }
      ],
      "source": [
        "df = pd.read_csv('olympics_dataset.csv')\n",
        "df"
      ]
    },
    {
      "cell_type": "markdown",
      "metadata": {
        "id": "fuOEjaSBzJMn"
      },
      "source": [
        "1. Сколько спортсменов участвовали в Летних Олимпийских играх за всё время?"
      ]
    },
    {
      "cell_type": "code",
      "execution_count": 24,
      "metadata": {
        "id": "W0NVQaWEzcrj",
        "colab": {
          "base_uri": "https://localhost:8080/"
        },
        "outputId": "eafc5180-36a8-45fa-d0c9-08df79242dba"
      },
      "outputs": [
        {
          "output_type": "execute_result",
          "data": {
            "text/plain": [
              "129992"
            ]
          },
          "metadata": {},
          "execution_count": 24
        }
      ],
      "source": [
        "df[df['Season'] == 'Summer']['Name'].nunique()"
      ]
    },
    {
      "cell_type": "markdown",
      "metadata": {
        "id": "NgqBXyjAzdC1"
      },
      "source": [
        "2. Найдите участника с наибольшим количеством медалей"
      ]
    },
    {
      "cell_type": "code",
      "execution_count": 21,
      "metadata": {
        "id": "_BgXSSrAzgJr",
        "colab": {
          "base_uri": "https://localhost:8080/"
        },
        "outputId": "359ce936-fa97-41ce-c3a1-a5b85d227963"
      },
      "outputs": [
        {
          "output_type": "stream",
          "name": "stdout",
          "text": [
            "Michael Ii\n",
            "28\n"
          ]
        }
      ],
      "source": [
        "print(df[df['Medal'] != 'No medal']['Name'].value_counts().idxmax())\n",
        "print(df[df['Medal'] != 'No medal']['Name'].value_counts().max())\n"
      ]
    },
    {
      "cell_type": "markdown",
      "metadata": {
        "id": "hAITny41zgjO"
      },
      "source": [
        "3. Какой спорт является самым популярным, то есть в нём участвовало больше всего спортсменов за всё время?"
      ]
    },
    {
      "cell_type": "code",
      "execution_count": 27,
      "metadata": {
        "id": "3aG36MWizmVa",
        "colab": {
          "base_uri": "https://localhost:8080/"
        },
        "outputId": "31079ec9-bf98-4d98-ec24-de7a986daf46"
      },
      "outputs": [
        {
          "output_type": "stream",
          "name": "stdout",
          "text": [
            "Athletics\n",
            "24796\n"
          ]
        }
      ],
      "source": [
        "print(df.groupby(['Sport'])['Name'].nunique().idxmax())\n",
        "print(df.groupby(['Sport'])['Name'].nunique().max())\n"
      ]
    },
    {
      "cell_type": "markdown",
      "metadata": {
        "id": "8AU6Qj1nzmo9"
      },
      "source": [
        "4. Кто был победителем медального зачёта в 2004 году?"
      ]
    },
    {
      "cell_type": "code",
      "execution_count": null,
      "metadata": {
        "id": "VU9cUVwCzr4v",
        "colab": {
          "base_uri": "https://localhost:8080/"
        },
        "outputId": "22753c60-40fe-41a0-a315-76b6e01d4f4a"
      },
      "outputs": [
        {
          "output_type": "stream",
          "name": "stdout",
          "text": [
            "United States\n",
            "115\n"
          ]
        }
      ],
      "source": [
        "print(df[(df['Year'] == 2004) & (df['Medal'] == 'Gold')].groupby('Team')['Medal'].count().idxmax())\n",
        "print(df[(df['Year'] == 2004) & (df['Medal'] == 'Gold')].groupby('Team')['Medal'].count().max())"
      ]
    },
    {
      "cell_type": "markdown",
      "metadata": {
        "id": "WW5dyJHlzsMS"
      },
      "source": [
        "5. В каком виде спорта США завоевало наибольшее число медалей?"
      ]
    },
    {
      "cell_type": "code",
      "execution_count": null,
      "metadata": {
        "id": "VStk_FqV1RMW",
        "colab": {
          "base_uri": "https://localhost:8080/"
        },
        "outputId": "ef81b225-b90c-47c5-ecfe-19257e78a20d"
      },
      "outputs": [
        {
          "output_type": "stream",
          "name": "stdout",
          "text": [
            "Swimming\n",
            "1194\n"
          ]
        }
      ],
      "source": [
        "print(df[(df['Team'] == 'United States') & (df['Medal'] != 'No medal')].groupby('Sport')['Medal'].count().idxmax())\n",
        "print(df[(df['Team'] == 'United States') & (df['Medal'] != 'No medal')].groupby('Sport')['Medal'].count().max())\n"
      ]
    },
    {
      "cell_type": "markdown",
      "metadata": {
        "id": "mqT-RjT5ymfJ"
      },
      "source": [
        "# С помощью графика покажите:"
      ]
    },
    {
      "cell_type": "code",
      "source": [
        "import matplotlib.pyplot as plt"
      ],
      "metadata": {
        "id": "dKfnaz5b3pxV"
      },
      "execution_count": 29,
      "outputs": []
    },
    {
      "cell_type": "markdown",
      "metadata": {
        "id": "KrawmUwtERK0"
      },
      "source": [
        "6. Сколько женщин и мужчин участвовало в Летних Олимпийских играх каждый год?"
      ]
    },
    {
      "cell_type": "code",
      "execution_count": 33,
      "metadata": {
        "id": "xIDuYWxLEZty",
        "colab": {
          "base_uri": "https://localhost:8080/",
          "height": 1000
        },
        "outputId": "8435bf41-3b44-486e-f69a-0cc0a54e0e9a"
      },
      "outputs": [
        {
          "output_type": "stream",
          "name": "stdout",
          "text": [
            "Year\n",
            "1896     176\n",
            "1900    1192\n",
            "1904     636\n",
            "1906     832\n",
            "1908    1964\n",
            "1912    2333\n",
            "1920    2582\n",
            "1924    3088\n",
            "1928    2926\n",
            "1932    1706\n",
            "1936    4111\n",
            "1948    3928\n",
            "1952    4395\n",
            "1956    2949\n",
            "1960    4720\n",
            "1964    4441\n",
            "1968    4744\n",
            "1972    6017\n",
            "1976    4796\n",
            "1980    4116\n",
            "1984    5202\n",
            "1988    6214\n",
            "1992    6621\n",
            "1996    6784\n",
            "2000    6554\n",
            "2004    6237\n",
            "2008    6261\n",
            "2012    5843\n",
            "2016    6118\n",
            "2020    6059\n",
            "2024    5647\n",
            "Name: Name, dtype: int64\n"
          ]
        },
        {
          "output_type": "display_data",
          "data": {
            "text/plain": [
              "<Figure size 640x480 with 1 Axes>"
            ],
            "image/png": "[encoded data removed]"
          },
          "metadata": {}
        }
      ],
      "source": [
        "years = np.sort(pd.unique(df['Year']))\n",
        "males = df[df['Sex'] == 'M'].groupby(['Year'])['Name'].nunique()\n",
        "females = np.concatenate(([0], df[df['Sex'] == 'F'].groupby(['Year'])['Name'].nunique().to_numpy()))\n",
        "\n",
        "placement = np.arange(years.size)\n",
        "width = 0.4\n",
        "plt.bar(placement, males, color = 'b', width = width, label = 'Men')\n",
        "plt.bar(placement + width, females, color = 'r', width = width, label = 'Women')\n",
        "\n",
        "plt.xlabel('Year')\n",
        "plt.title('Men and women per year')\n",
        "\n",
        "plt.tick_params(axis = 'x', labelrotation = 90, labelsize = 9)\n",
        "plt.xticks(placement + width/2, years)\n",
        "plt.legend()\n",
        "\n",
        "plt.show()"
      ]
    },
    {
      "cell_type": "markdown",
      "metadata": {
        "id": "Vd7kfuEeEZSr"
      },
      "source": [
        "7. Какие 10 стран на текущий момент имеют наибольшее количество золотых медалей?\n"
      ]
    },
    {
      "cell_type": "code",
      "execution_count": null,
      "metadata": {
        "id": "weNY9z0NFb4c",
        "colab": {
          "base_uri": "https://localhost:8080/",
          "height": 546
        },
        "outputId": "2b9cb745-6297-401e-be76-bc57346d1068"
      },
      "outputs": [
        {
          "output_type": "display_data",
          "data": {
            "text/plain": [
              "<Figure size 640x480 with 1 Axes>"
            ],
            "image/png": "[encoded data removed]"
          },
          "metadata": {}
        }
      ],
      "source": [
        "countries = df[df['Medal'] == 'Gold'].groupby('Team')['Medal'].count().sort_values(ascending = False).head(10)\n",
        "\n",
        "\n",
        "placement = np.arange(countries.size)\n",
        "width = 0.5\n",
        "plt.bar(placement, countries, color = 'gold', width = width)\n",
        "\n",
        "\n",
        "plt.xlabel('Countries')\n",
        "plt.title('Countries with most gold medals ever')\n",
        "\n",
        "plt.tick_params(axis = 'x', labelrotation = 90, labelsize = 9)\n",
        "plt.xticks(placement, countries.index)\n",
        "\n",
        "plt.show()"
      ]
    },
    {
      "cell_type": "markdown",
      "metadata": {
        "id": "SlRCGFkXFbBq"
      },
      "source": [
        "8. Сколько золотых, серебряных и бронзовых медалей зарабатывал СССР отдельно по каждым играм?"
      ]
    },
    {
      "cell_type": "code",
      "execution_count": null,
      "metadata": {
        "id": "SzrdxQhaF7gT",
        "colab": {
          "base_uri": "https://localhost:8080/",
          "height": 489
        },
        "outputId": "4a5e3268-7282-4a0c-a3a6-094aaeb5c7e2"
      },
      "outputs": [
        {
          "output_type": "display_data",
          "data": {
            "text/plain": [
              "<Figure size 640x480 with 1 Axes>"
            ],
            "image/png": "[encoded data removed]"
          },
          "metadata": {}
        }
      ],
      "source": [
        "gold = df[(df['Team'] == 'Soviet Union') & (df['Medal'] == 'Gold')].groupby('Year')['Medal'].count()\n",
        "silver = df[(df['Team'] == 'Soviet Union') & (df['Medal'] == 'Silver')].groupby('Year')['Medal'].count()\n",
        "bronze = df[(df['Team'] == 'Soviet Union') & (df['Medal'] == 'Bronze')].groupby('Year')['Medal'].count()\n",
        "\n",
        "years = np.sort(pd.unique(bronze.index)).astype(np.int64)\n",
        "\n",
        "placement = np.arange(years.size)\n",
        "width = 0.2\n",
        "plt.bar(placement, gold, color = 'gold', width = width, label = 'Gold')\n",
        "plt.bar(placement + width, silver, color = 'silver', width = width, label = 'Silver')\n",
        "plt.bar(placement + 2 * width, bronze, color = 'brown', width = width, label = 'Bronze')\n",
        "\n",
        "plt.xlabel('Year')\n",
        "plt.title('Amount of each kind of medal for every year')\n",
        "\n",
        "plt.tick_params(axis = 'x', labelrotation = 90, labelsize = 9)\n",
        "plt.xticks(placement + width, years)\n",
        "plt.legend()\n",
        "\n",
        "plt.show()\n"
      ]
    },
    {
      "cell_type": "markdown",
      "metadata": {
        "id": "L7Nnrghyy07f"
      },
      "source": [
        "9. Сколько медалей завоёвывали спортсмены и спортсменки (отдельно) команды Китая на каждой олимпиаде?\n"
      ]
    },
    {
      "cell_type": "code",
      "execution_count": 48,
      "metadata": {
        "id": "IjMC9RULy0tE",
        "colab": {
          "base_uri": "https://localhost:8080/",
          "height": 490
        },
        "outputId": "732c2202-6eb1-4d8f-faca-3c409d90abaf"
      },
      "outputs": [
        {
          "output_type": "display_data",
          "data": {
            "text/plain": [
              "<Figure size 640x480 with 1 Axes>"
            ],
            "image/png": "[encoded data removed]"
          },
          "metadata": {}
        }
      ],
      "source": [
        "males = df[(df['Team'] == 'China') & (df['Sex'] == 'M') & (df['Medal'] != 'No medal')].groupby(['Year'])['Medal'].count()\n",
        "females = df[(df['Team'] == 'China') & (df['Sex'] == 'F') & (df['Medal'] != 'No medal')].groupby(['Year'])['Medal'].count()\n",
        "years = np.sort(pd.unique(males.index)).astype(np.int64)\n",
        "\n",
        "placement = np.arange(years.size)\n",
        "width = 0.3\n",
        "plt.bar(placement, males, color = 'b', width = width, label = 'Men')\n",
        "plt.bar(placement + width, females, color = 'red', width = width, label = 'Women')\n",
        "\n",
        "plt.xlabel('Year')\n",
        "plt.title('Medals won by chinese men and women')\n",
        "\n",
        "plt.tick_params(axis = 'x', labelrotation = 90, labelsize = 9)\n",
        "plt.xticks(placement + width/2, years)\n",
        "plt.legend()\n",
        "\n",
        "plt.show()"
      ]
    },
    {
      "cell_type": "markdown",
      "metadata": {
        "id": "YM5LH2-Xyz5A"
      },
      "source": [
        "10. Какие 10 стран имеют наибольшее количество участников, не получивших никаких медалей ни на одной из Летних олимпиад?"
      ]
    },
    {
      "cell_type": "code",
      "execution_count": 51,
      "metadata": {
        "id": "QF1-5fg3y1SY",
        "colab": {
          "base_uri": "https://localhost:8080/",
          "height": 543
        },
        "outputId": "a73d5faf-9677-43e8-eb21-d47339b1ebc9"
      },
      "outputs": [
        {
          "output_type": "display_data",
          "data": {
            "text/plain": [
              "<Figure size 640x480 with 1 Axes>"
            ],
            "image/png": "[encoded data removed]"
          },
          "metadata": {}
        }
      ],
      "source": [
        "countries = df[df['Medal'] == 'No medal'].groupby('Team')['Medal'].count().sort_values(ascending = False).head(10)\n",
        "\n",
        "\n",
        "placement = np.arange(countries.size)\n",
        "width = 0.5\n",
        "plt.bar(placement, countries, color = 'b', width = width)\n",
        "\n",
        "\n",
        "plt.xlabel('Countries')\n",
        "plt.title('Countries with most gold medals ever')\n",
        "\n",
        "plt.tick_params(axis = 'x', labelrotation = 90, labelsize = 9)\n",
        "plt.xticks(placement, countries.index)\n",
        "\n",
        "plt.show()"
      ]
    },
    {
      "cell_type": "markdown",
      "metadata": {
        "id": "uc7V9_XbG5lY"
      },
      "source": [
        "**Выводы:**\n",
        "В питоне существуют библиотеки, позволяющие более удобно и быстро обрабатывать большие наборы данных по сравнению с встроенными методами или с методами, которые  мог бы разработать самостоятельно"
      ]
    }
  ],
  "metadata": {
    "colab": {
      "provenance": []
    },
    "kernelspec": {
      "display_name": "Python 3",
      "name": "python3"
    },
    "language_info": {
      "codemirror_mode": {
        "name": "ipython",
        "version": 3
      },
      "file_extension": ".py",
      "mimetype": "text/x-python",
      "name": "python",
      "nbconvert_exporter": "python",
      "pygments_lexer": "ipython3",
      "version": "3.11.7"
    }
  },
  "nbformat": 4,
  "nbformat_minor": 0
}